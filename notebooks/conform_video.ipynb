{
 "cells": [
  {
   "cell_type": "code",
   "execution_count": 1,
   "id": "7eb63943",
   "metadata": {},
   "outputs": [],
   "source": [
    "import cv2\n",
    "import numpy as np"
   ]
  },
  {
   "cell_type": "markdown",
   "id": "1a177439",
   "metadata": {},
   "source": [
    "# Generate a numpy array from a video\n",
    "1. Load the video and read the metadata\n",
    "1. Dowsample the video at the targeted fps and resize the frames\n",
    "1. Save the numpy array :3D + 3D numpy with colors or 3D if gray\n"
   ]
  },
  {
   "cell_type": "markdown",
   "id": "f229a5ae",
   "metadata": {},
   "source": [
    "### Load the video and read the metadata"
   ]
  },
  {
   "cell_type": "code",
   "execution_count": 2,
   "id": "5496d17d",
   "metadata": {},
   "outputs": [],
   "source": [
    "path_videos = \"../videos/\"\n",
    "video_name = \"Tom Hanks' Amazing Clint Eastwood Impression - The Graham Norton Show.mp4\"\n",
    "video_in = path_videos + video_name"
   ]
  },
  {
   "cell_type": "code",
   "execution_count": 9,
   "id": "cf6f451d",
   "metadata": {},
   "outputs": [
    {
     "name": "stdout",
     "output_type": "stream",
     "text": [
      "Frame per Second : 29.97\n",
      "Frame size : (width,height) = (1280.0,720.0)\n",
      "Frame count : 4562.0\n"
     ]
    }
   ],
   "source": [
    "# Read video properties\n",
    "\n",
    "SHOW_DWN_VIDEO = True  # To visualise the downsized video\n",
    "USE_COLOR = False  # To save in cv2 RGB format\n",
    "\n",
    "video = cv2.VideoCapture(video_in)\n",
    "\n",
    "frame_count = video.get(cv2.CAP_PROP_FRAME_COUNT)\n",
    "frame_width = video.get(cv2.CAP_PROP_FRAME_WIDTH)\n",
    "frame_height = video.get(cv2.CAP_PROP_FRAME_HEIGHT)\n",
    "fps = video.get(cv2.CAP_PROP_FPS)\n",
    "\n",
    "print(\"Frame per Second : {:.2f}\".format(fps))\n",
    "print(\"Frame size : (width,height) = ({},{})\".format(frame_width, frame_height))\n",
    "print(\"Frame count : {}\".format(frame_count))"
   ]
  },
  {
   "cell_type": "markdown",
   "id": "768e829f",
   "metadata": {},
   "source": [
    "## Dowsample the video at the targeted fps and resize the frames"
   ]
  },
  {
   "cell_type": "code",
   "execution_count": 10,
   "id": "e83e775f",
   "metadata": {},
   "outputs": [],
   "source": [
    "\n",
    "# define the fps for the numpy array\n",
    "fps_np = 1.0\n",
    "\n",
    "# rounded to get an uniform sampling or float to get a better approximation of the fps_np\n",
    "# but loose the dimension of the array\n",
    "dwn_fps = round(fps/fps_np)\n",
    "\n",
    "# shrink factor to shrink the frames\n",
    "# the dimension of the resized_frame (width_np, height_np)\n",
    "# can be set manually\n",
    "\n",
    "shrink_factor = 4.\n",
    "width_np = int(frame_width/shrink_factor)\n",
    "height_np = int(frame_height/shrink_factor)\n",
    "dim_np = (width_np, height_np)\n",
    "\n",
    "# number of frames after donsampling\n",
    "# the +1 because at the init we start at frame 0\n",
    "frame_count_np = int(frame_count/dwn_fps)+1\n",
    "\n",
    "# np array size\n",
    "if USE_COLOR:\n",
    "    video_np = np.zeros((frame_count_np, height_np, width_np, 3))\n",
    "else:\n",
    "    video_np = np.zeros((frame_count_np, height_np, width_np))\n",
    "\n",
    "\n",
    "# init the first frame is the frame zero\n",
    "success = True\n",
    "frame_number_flt = 0\n",
    "frame_number = round(frame_number_flt)\n",
    "array_idx = 0\n",
    "\n",
    "while success and frame_number < frame_count:\n",
    "\n",
    "    # take the undersampled frame\n",
    "    video.set(cv2.CAP_PROP_POS_FRAMES, frame_number)\n",
    "    success, frame = video.read()\n",
    "\n",
    "    # resize frame to the dimension of the array dim_np\n",
    "    resized_frame = cv2.resize(\n",
    "        frame, (width_np, height_np), interpolation=cv2.INTER_AREA)\n",
    "\n",
    "    if USE_COLOR == False:\n",
    "        resized_frame = cv2.cvtColor(resized_frame, cv2.COLOR_BGR2GRAY)\n",
    "\n",
    "    if SHOW_DWN_VIDEO:\n",
    "        cv2.imshow('resized frame', resized_frame)\n",
    "        aa = cv2.waitKey(1)\n",
    "\n",
    "    # save in an array\n",
    "    video_np[array_idx, :] = resized_frame\n",
    "\n",
    "    # increment the frames and numpy array index\n",
    "    frame_number_flt += dwn_fps\n",
    "    frame_number = round(frame_number_flt)\n",
    "    array_idx += 1"
   ]
  },
  {
   "cell_type": "code",
   "execution_count": 11,
   "id": "9589594e",
   "metadata": {},
   "outputs": [],
   "source": [
    "# clean up \n",
    "video.release()"
   ]
  },
  {
   "cell_type": "code",
   "execution_count": 13,
   "id": "31e25280",
   "metadata": {},
   "outputs": [],
   "source": [
    "# close the window\n",
    "if SHOW_DWN_VIDEO:\n",
    "    cv2.waitKey(1000)\n",
    "    cv2.destroyAllWindows()"
   ]
  },
  {
   "cell_type": "markdown",
   "id": "0b7036c2",
   "metadata": {},
   "source": [
    "## Save the numpy array :3D + 3D numpy with colors or 3D if gray"
   ]
  },
  {
   "cell_type": "code",
   "execution_count": 14,
   "id": "92e0a975",
   "metadata": {},
   "outputs": [],
   "source": [
    "# save the numpy array \n",
    "path_arrays = \"../arrays/\"\n",
    "array_name = 'Tom_Hanks_GNS' + str(fps_np) + 'fps'\n",
    "if USE_COLOR:\n",
    "    array_name += '_RGB'\n",
    "else:\n",
    "    array_name += '_Gray'\n",
    "file_out =  path_arrays + array_name\n",
    "np.save(file = file_out, arr = video_np)"
   ]
  },
  {
   "cell_type": "code",
   "execution_count": null,
   "id": "d1cdd766",
   "metadata": {},
   "outputs": [],
   "source": []
  }
 ],
 "metadata": {
  "kernelspec": {
   "display_name": "benchmark-face-reco",
   "language": "python",
   "name": "benchmark-face-reco"
  },
  "language_info": {
   "codemirror_mode": {
    "name": "ipython",
    "version": 3
   },
   "file_extension": ".py",
   "mimetype": "text/x-python",
   "name": "python",
   "nbconvert_exporter": "python",
   "pygments_lexer": "ipython3",
   "version": "3.9.1"
  }
 },
 "nbformat": 4,
 "nbformat_minor": 5
}
