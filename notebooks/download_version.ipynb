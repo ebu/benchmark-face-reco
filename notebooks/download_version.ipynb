{
 "cells": [
  {
   "cell_type": "code",
   "execution_count": 1,
   "id": "34cbfd5d",
   "metadata": {},
   "outputs": [],
   "source": [
    "import os\n",
    "import boto3\n",
    "import json"
   ]
  },
  {
   "cell_type": "code",
   "execution_count": 2,
   "id": "5929b79e",
   "metadata": {},
   "outputs": [],
   "source": [
    "# AWS S3 parameters\n",
    "# You need an aws profile set up with your credentials in your aws CLI configuration file\n",
    "session = boto3.Session(profile_name='mturk')\n",
    "s3_client = session.client('s3')\n",
    "s3_bucket = 'video-face-reco-dataset'"
   ]
  },
  {
   "cell_type": "code",
   "execution_count": 10,
   "id": "ac40cb3b",
   "metadata": {},
   "outputs": [],
   "source": [
    "def download_videos(path_directory='', your_current_version='0'):\n",
    "    \"\"\"\n",
    "    Load the videos of the dataset from S3 to the local directory\n",
    "\n",
    "    :param path_directory: the directory where the videos will be downloaded\n",
    "    :param your_current_version: \n",
    "        the current version of the dataset from which you have already downloaded videos.\n",
    "        If 0: download all videos / Otherwise: download only new videos from this version\n",
    "    \"\"\"\n",
    "    # We load the video file names of the dataset\n",
    "    versions_object = s3_client.get_object(Bucket=s3_bucket, Key='versions.json')\n",
    "    versions = json.loads(versions_object['Body'].read().decode('utf-8'))\n",
    "    accepted_versions = ['0'] + list(versions['versions'].keys())\n",
    "    \n",
    "    if str(your_current_version) not in accepted_versions:\n",
    "        raise ValueError(f'Version {your_current_version} does not exist - accepted versions are : {\",\".join(accepted_versions)}')\n",
    "        \n",
    "    # We create the directory if it does not exist\n",
    "    if not os.path.exists(path_directory):\n",
    "        os.makedirs(path_directory)\n",
    "    \n",
    "    # We download the videos of the dataset\n",
    "    print(f'*** Downloading videos of the dataset... ***')\n",
    "    for video_key, version in versions['videos'].items():\n",
    "        if int(version) > int(your_current_version):\n",
    "            path_video = os.path.join(path_directory, os.path.basename(video_key))\n",
    "            print(f' - Downloading {path_video}...')\n",
    "            s3_client.download_file(Bucket=s3_bucket, Key=video_key, Filename=path_video)\n",
    "        else:\n",
    "            print(f' - You already have \"{os.path.basename(video_key)}\" with your current version {your_current_version}.')"
   ]
  },
  {
   "cell_type": "code",
   "execution_count": 9,
   "id": "8070a7f1",
   "metadata": {},
   "outputs": [
    {
     "name": "stdout",
     "output_type": "stream",
     "text": [
      "*** Downloading videos of the dataset... ***\n",
      " - Downloading test_video_download/videos/C dans l'air 1.mp4...\n"
     ]
    }
   ],
   "source": [
    "download_videos(path_directory='test_video_download/videos', your_current_version='0')"
   ]
  },
  {
   "cell_type": "code",
   "execution_count": 11,
   "id": "c9998b50",
   "metadata": {},
   "outputs": [],
   "source": [
    "def download_version(path_directory='', version='last'):\n",
    "    \"\"\"\n",
    "    Load the required version of the dataset from S3 to the local directory\n",
    "\n",
    "    :param path_directory: the directory where the dataset will be downloaded\n",
    "    :param version: the version of the dataset to load - if 'last', the last version will be loaded\n",
    "    \"\"\"\n",
    "    # We load the file names of the dataset for the required version\n",
    "    versions_object = s3_client.get_object(Bucket=s3_bucket, Key='versions.json')\n",
    "    versions = json.loads(versions_object['Body'].read().decode('utf-8'))\n",
    "    last_version = max(versions['versions'].keys())\n",
    "\n",
    "    if version == \"last\":\n",
    "        print(f'Last version: {last_version}')\n",
    "        version = last_version\n",
    "    elif str(version) not in versions['versions'].keys():\n",
    "        raise ValueError(f'Version {version} does not exist - last version is {last_version}')\n",
    "\n",
    "    path_download = os.path.join(path_directory, f'version_{version}')\n",
    "    # we create the directory if it does not exist\n",
    "    if not os.path.exists(path_download):\n",
    "        os.makedirs(path_download)\n",
    "\n",
    "    # we download the dataset for the required version\n",
    "    print(f'*** Downloading version {version} of the dataset... ***')\n",
    "    for file_key, file_versionId in versions['versions'][str(version)].items():\n",
    "        path_file = os.path.join(path_download, os.path.basename(file_key))\n",
    "        print(f' - Downloading {path_file}...')\n",
    "        s3_client.download_file(\n",
    "            Bucket=s3_bucket,\n",
    "            Key=file_key,\n",
    "            Filename=path_file,\n",
    "            ExtraArgs={'VersionId': file_versionId}\n",
    "        )"
   ]
  },
  {
   "cell_type": "code",
   "execution_count": null,
   "id": "857d9d67",
   "metadata": {
    "scrolled": true
   },
   "outputs": [],
   "source": [
    "download_version(path_directory='test_video_download', version=\"last\")"
   ]
  },
  {
   "cell_type": "code",
   "execution_count": null,
   "id": "2b8ea8ef",
   "metadata": {},
   "outputs": [],
   "source": []
  }
 ],
 "metadata": {
  "kernelspec": {
   "display_name": "Python 3 (ipykernel)",
   "language": "python",
   "name": "python3"
  },
  "language_info": {
   "codemirror_mode": {
    "name": "ipython",
    "version": 3
   },
   "file_extension": ".py",
   "mimetype": "text/x-python",
   "name": "python",
   "nbconvert_exporter": "python",
   "pygments_lexer": "ipython3",
   "version": "3.10.11"
  }
 },
 "nbformat": 4,
 "nbformat_minor": 5
}
