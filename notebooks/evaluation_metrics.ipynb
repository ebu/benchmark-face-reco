{
 "cells": [
  {
   "cell_type": "markdown",
   "id": "66d34eb5",
   "metadata": {},
   "source": [
    "# AI-Benchmarking face recognition dataset - evaluation example\n",
    "This is a Jupyter Notebook to compute classic metrics for the AI-Benchmarking face recognition dataset. "
   ]
  },
  {
   "cell_type": "code",
   "execution_count": 1,
   "id": "8af204a3",
   "metadata": {},
   "outputs": [],
   "source": [
    "import boto3\n",
    "import json\n",
    "import pandas as pd\n",
    "import numpy as np\n",
    "\n",
    "from collections import Counter\n",
    "from datetime import timedelta"
   ]
  },
  {
   "cell_type": "markdown",
   "id": "8e63d713",
   "metadata": {},
   "source": [
    "---\n",
    "### Load annotations file from dataset S3 bucket "
   ]
  },
  {
   "cell_type": "code",
   "execution_count": 2,
   "id": "cefa44e8",
   "metadata": {},
   "outputs": [],
   "source": [
    "# AWS S3 parameters\n",
    "# You need an aws profile set up with your credentials in your aws CLI configuration file\n",
    "session = boto3.Session(profile_name='mturk')\n",
    "s3_client = session.client('s3')\n",
    "s3_bucket = 'video-face-reco-dataset'"
   ]
  },
  {
   "cell_type": "code",
   "execution_count": 3,
   "id": "ba21ca42",
   "metadata": {},
   "outputs": [],
   "source": [
    "# Load AI-Benchmarking dataset annotations file from S3 bucket\n",
    "# You can also load it from a local folder if you have already downloaded the dataset\n",
    "annotations_path = 'video-annotation-dataset/Graham Norton Show 12.json'\n",
    "\n",
    "annotations_obj = s3_client.get_object(Bucket=s3_bucket,Key=annotations_path)\n",
    "annotations_json = json.loads(annotations_obj['Body'].read())"
   ]
  },
  {
   "cell_type": "code",
   "execution_count": 4,
   "id": "c8e61462",
   "metadata": {},
   "outputs": [
    {
     "name": "stdout",
     "output_type": "stream",
     "text": [
      "dict_keys(['video_title', 'video_url', 'program_name', 'all_personalities', 'annotation'])\n"
     ]
    }
   ],
   "source": [
    "print(annotations_json.keys())"
   ]
  },
  {
   "cell_type": "markdown",
   "id": "914ba273",
   "metadata": {},
   "source": [
    "---\n",
    "### Examples of confusion matrices extraction from predictions and annotations files\n",
    "\n",
    "We define for the personalities present in the metadata of the video that we want to evaluate:\n",
    "- **True Positive (tp)**: When a personality is correctly labelled present in a video interval.\n",
    "- **False Positive (fp)**: When a personality is incorrectly labelled present in a video interval when they are not.\n",
    "- **True Negative (tn)**: When a personality is correctly labelled not present in a video interval.\n",
    "- **False Negative (fn)**: When a personality is incorrectly labelled not present in a video interval when they are.\n",
    "\n",
    "We can also define personalities not present in the video metadata and labeled as present in an interval when they obviously are not, as False Positives. We count them separately because this may be due to incomplete metadata and distort the evaluation, even if it can also be due to a prediction error.\n",
    "\n",
    "---\n",
    "\n",
    "The preferred input format to compute the classic metrics is a pandas DataFrame with as indices the names of the personalities present in the metadata of the video we want to evaluate. And 4 columns: tp, fp, tn and fn which respect the previous definitions.\n",
    "\n",
    "You can find below an example that uses the AwsCelebrityRecognition service."
   ]
  },
  {
   "cell_type": "code",
   "execution_count": 5,
   "id": "2846ef7c",
   "metadata": {},
   "outputs": [],
   "source": [
    "# Here is a minimal example of an input format that you can use to compute classic metrics from the dataset.\n",
    "\n",
    "# Each element of the list is personality detection sorted by time. \n",
    "# There can be several elements with the same Timestamp if multiple detection on the same frame.\n",
    "\n",
    "predictions_celebs_format = [\n",
    "    {'Timestamp': 0, # in milliseconds\n",
    "     'Celebrity': {\n",
    "        'Urls': ['www.wikidata.org/wiki/Q19154', 'www.imdb.com/name/nm0636218'], # if you have it, can be useful to create celebrity ID\n",
    "        'Name': 'Graham Norton'} # similar to the video metadata (all_personalities field in the annotation file)\n",
    "    },\n",
    "    {'Timestamp': 1000, \n",
    "     'Celebrity': {\n",
    "        'Urls': ['www.wikidata.org/wiki/Q26876', 'www.imdb.com/name/nm2357847'],\n",
    "        'Name': 'Taylor Swift'}\n",
    "    },\n",
    "    {'Timestamp': 1480, \n",
    "     'Celebrity': {\n",
    "        'Urls': ['www.wikidata.org/wiki/Q834621', 'www.imdb.com/name/nm0095104'],\n",
    "        'Name': 'Bono'}},\n",
    "]"
   ]
  },
  {
   "cell_type": "code",
   "execution_count": 7,
   "id": "e99e0b2f",
   "metadata": {},
   "outputs": [
    {
     "name": "stdout",
     "output_type": "stream",
     "text": [
      "Load ../data/aws_data/Graham Norton Show 12_1.json\n",
      "Load ../data/aws_data/Graham Norton Show 12_2.json\n",
      "Load ../data/aws_data/Graham Norton Show 12_3.json\n",
      "Load ../data/aws_data/Graham Norton Show 12_4.json\n",
      "Load ../data/aws_data/Graham Norton Show 12_5.json\n",
      "\n",
      "Number of personalities detected : 4584\n"
     ]
    }
   ],
   "source": [
    "# Load complete prediction files from AwsCelebrityRecognition service as example\n",
    "# The predictions for the \"Graham Norton Show 12\" videos are divided into 5 files\n",
    "predictions_celebs = []\n",
    "\n",
    "for i in range(1,6):\n",
    "    predictions_path = f'../data/aws_data/Graham Norton Show 12_{i}.json'\n",
    "    print(f\"Load {predictions_path}\")\n",
    "    with open(predictions_path, \"rb\") as f:\n",
    "        predictions_json = json.load(f)\n",
    "    predictions_celebs += predictions_json['Celebrities']\n",
    "    \n",
    "print(f\"\\nNumber of personalities detected : {len(predictions_celebs)}\")"
   ]
  },
  {
   "cell_type": "code",
   "execution_count": 8,
   "id": "a12b700a",
   "metadata": {},
   "outputs": [
    {
     "data": {
      "text/plain": [
       "{'Timestamp': 0,\n",
       " 'Celebrity': {'Urls': ['www.wikidata.org/wiki/Q19154',\n",
       "   'www.imdb.com/name/nm0636218'],\n",
       "  'Name': 'Graham Norton',\n",
       "  'Id': '1u2oh9S',\n",
       "  'Confidence': 91.83985900878906,\n",
       "  'Face': {'BoundingBox': {'Width': 0.05159798264503479,\n",
       "    'Height': 0.13792622089385986,\n",
       "    'Left': 0.5035192370414734,\n",
       "    'Top': 0.31078198552131653},\n",
       "   'Landmarks': [{'Type': 'eyeLeft',\n",
       "     'X': 0.5172826647758484,\n",
       "     'Y': 0.3678494691848755},\n",
       "    {'Type': 'eyeRight', 'X': 0.5417059659957886, 'Y': 0.36701586842536926},\n",
       "    {'Type': 'mouthLeft', 'X': 0.5195242762565613, 'Y': 0.4120739996433258},\n",
       "    {'Type': 'mouthRight', 'X': 0.5398578643798828, 'Y': 0.41139599680900574},\n",
       "    {'Type': 'nose', 'X': 0.528906524181366, 'Y': 0.3884477913379669}],\n",
       "   'Pose': {'Roll': -1.282999873161316,\n",
       "    'Yaw': -0.22642219066619873,\n",
       "    'Pitch': 15.497112274169922},\n",
       "   'Quality': {'Brightness': 61.47097396850586,\n",
       "    'Sharpness': 60.49041748046875},\n",
       "   'Confidence': 99.99595642089844},\n",
       "  'KnownGender': {'Type': 'Male'}}}"
      ]
     },
     "execution_count": 8,
     "metadata": {},
     "output_type": "execute_result"
    }
   ],
   "source": [
    "predictions_celebs[0]"
   ]
  },
  {
   "cell_type": "code",
   "execution_count": 9,
   "id": "75520cc2",
   "metadata": {
    "scrolled": true
   },
   "outputs": [],
   "source": [
    "def aws_confusion_df(predictions_celebs, annotations_json):\n",
    "    \"\"\"\n",
    "    Generate confusion matrices of all personalities present in the video we want to evaluate.\n",
    "    \n",
    "    :param predictions_json dict: \n",
    "        dictionary of celebrities predictions generated with AwsCelebrityRecognition service.\n",
    "    :param annotations_json dict: \n",
    "        dictionary of annotations for a given video from the AI-Benchmarking dataset.\n",
    "    :return: \n",
    "        a pandas DataFrame confusion matrices of all personalities present in the video we want to evaluate and\n",
    "        a dictionary of personalities detected but not in the metadata of the video (specific fp)\n",
    "    :rtype: (pandas.DataFrame, dict)\n",
    "    \"\"\"\n",
    "    # initiate confusion df with all personalities present in the video's metadata\n",
    "    confusion_df = pd.DataFrame(index=annotations_json['all_personalities'])\n",
    "    confusion_df = confusion_df.assign(tp=0, fp=0, tn=0, fn=0)\n",
    "    # dictionary of predicted personalities not present in the video's metadata \n",
    "    other_pred = {}\n",
    "        \n",
    "    # aws index of the last predicted celebrities in the current interval\n",
    "    last_pred_id = 0\n",
    "    \n",
    "    for interval_id, interval in annotations_json['annotation'].items():\n",
    "        \n",
    "        # start time and end time of the interval in milliseconds (because AWS Timestamp in ms)\n",
    "        interval_split = interval['time_interval'][1:-1].split(',')\n",
    "        interval_start = pd.Timedelta(interval_split[0]).total_seconds()*1000\n",
    "        interval_end = pd.Timedelta(interval_split[1]).total_seconds()*1000\n",
    "\n",
    "        # set of predicted personality in the current interval\n",
    "        pred_ps = set()\n",
    "        annot_ps = interval['personalities']\n",
    "                \n",
    "        for i, celebs in enumerate(predictions_celebs[last_pred_id:]):\n",
    "            # if the current predicted personality is in the current interval add it to the set else go to the next interval\n",
    "            if interval_start <= celebs['Timestamp'] <= interval_end:\n",
    "                pred_ps.add(celebs['Celebrity']['Name'])\n",
    "                \n",
    "            # if the current predicted personality is between the previous and the current interval, pass to the next celebrity\n",
    "            # So, we do not take into account the personalities that appear only between the 1 second intervals.\n",
    "            elif celebs['Timestamp'] < interval_start :\n",
    "                pass\n",
    "            \n",
    "            # if the current predicted personality is after the current interval, keep this celebrity and break to the next interval\n",
    "            elif celebs['Timestamp'] > interval_end: \n",
    "                last_pred_id = last_pred_id+i\n",
    "                break\n",
    "            \n",
    "\n",
    "        # From the personalities in the video's metadata, add the celebrities in the current interval to the corresponding tp, fp, tn and fn counts.\n",
    "        for all_p in annotations_json['all_personalities']:\n",
    "            if (all_p in pred_ps) and (all_p in annot_ps):\n",
    "                confusion_df.loc[all_p]['tp'] += 1\n",
    "            elif (all_p in pred_ps) and (all_p not in annot_ps):\n",
    "                confusion_df.loc[all_p]['fp'] += 1\n",
    "            elif (all_p not in pred_ps) and (all_p not in annot_ps):\n",
    "                confusion_df.loc[all_p]['tn'] += 1\n",
    "            elif (all_p not in pred_ps) and (all_p in annot_ps):\n",
    "                confusion_df.loc[all_p]['fn'] += 1\n",
    "\n",
    "        # add predicted personalities not present in video's metadata in external dictionary\n",
    "        for pred_p in pred_ps: \n",
    "            if pred_p not in annotations_json['all_personalities']:\n",
    "                other_pred.setdefault(pred_p, 0)\n",
    "                other_pred[pred_p] += 1\n",
    "                \n",
    "    return confusion_df, other_pred"
   ]
  },
  {
   "cell_type": "code",
   "execution_count": 10,
   "id": "460a737a",
   "metadata": {},
   "outputs": [],
   "source": [
    "confusion_df, other_pred = aws_confusion_df(predictions_celebs, annotations_json)"
   ]
  },
  {
   "cell_type": "code",
   "execution_count": 11,
   "id": "7d9ddcbf",
   "metadata": {},
   "outputs": [
    {
     "data": {
      "text/html": [
       "<div>\n",
       "<style scoped>\n",
       "    .dataframe tbody tr th:only-of-type {\n",
       "        vertical-align: middle;\n",
       "    }\n",
       "\n",
       "    .dataframe tbody tr th {\n",
       "        vertical-align: top;\n",
       "    }\n",
       "\n",
       "    .dataframe thead th {\n",
       "        text-align: right;\n",
       "    }\n",
       "</style>\n",
       "<table border=\"1\" class=\"dataframe\">\n",
       "  <thead>\n",
       "    <tr style=\"text-align: right;\">\n",
       "      <th></th>\n",
       "      <th>tp</th>\n",
       "      <th>fp</th>\n",
       "      <th>tn</th>\n",
       "      <th>fn</th>\n",
       "    </tr>\n",
       "  </thead>\n",
       "  <tbody>\n",
       "    <tr>\n",
       "      <th>Graham Norton</th>\n",
       "      <td>90</td>\n",
       "      <td>0</td>\n",
       "      <td>105</td>\n",
       "      <td>6</td>\n",
       "    </tr>\n",
       "    <tr>\n",
       "      <th>Bono</th>\n",
       "      <td>89</td>\n",
       "      <td>1</td>\n",
       "      <td>72</td>\n",
       "      <td>39</td>\n",
       "    </tr>\n",
       "    <tr>\n",
       "      <th>Taylor Swift</th>\n",
       "      <td>89</td>\n",
       "      <td>0</td>\n",
       "      <td>57</td>\n",
       "      <td>55</td>\n",
       "    </tr>\n",
       "    <tr>\n",
       "      <th>Eddie Redmayne</th>\n",
       "      <td>123</td>\n",
       "      <td>0</td>\n",
       "      <td>63</td>\n",
       "      <td>15</td>\n",
       "    </tr>\n",
       "    <tr>\n",
       "      <th>Alex Scott</th>\n",
       "      <td>31</td>\n",
       "      <td>1</td>\n",
       "      <td>86</td>\n",
       "      <td>83</td>\n",
       "    </tr>\n",
       "    <tr>\n",
       "      <th>Lady Blackbird</th>\n",
       "      <td>0</td>\n",
       "      <td>0</td>\n",
       "      <td>181</td>\n",
       "      <td>20</td>\n",
       "    </tr>\n",
       "  </tbody>\n",
       "</table>\n",
       "</div>"
      ],
      "text/plain": [
       "                 tp  fp   tn  fn\n",
       "Graham Norton    90   0  105   6\n",
       "Bono             89   1   72  39\n",
       "Taylor Swift     89   0   57  55\n",
       "Eddie Redmayne  123   0   63  15\n",
       "Alex Scott       31   1   86  83\n",
       "Lady Blackbird    0   0  181  20"
      ]
     },
     "execution_count": 11,
     "metadata": {},
     "output_type": "execute_result"
    }
   ],
   "source": [
    "# Examples of confusion dataframes format\n",
    "confusion_df"
   ]
  },
  {
   "cell_type": "code",
   "execution_count": 12,
   "id": "603c313d",
   "metadata": {},
   "outputs": [
    {
     "data": {
      "text/plain": [
       "{'Rishi Sunak': 1,\n",
       " 'Rohini Hattangadi': 1,\n",
       " 'Frank Sinatra': 1,\n",
       " 'Sir John Tenniel': 1,\n",
       " \"Dylan O'Brien\": 1,\n",
       " 'Jessica Chastain': 3,\n",
       " 'Boris Strugatsky': 1,\n",
       " 'John Paul II': 1,\n",
       " 'Dennis Marcellino': 1,\n",
       " 'Betsey Johnson': 6,\n",
       " 'Richard Ayoade': 1,\n",
       " 'Michaela Coel': 1,\n",
       " 'Winston Duke': 1,\n",
       " 'BeBe Zahara Benet': 1}"
      ]
     },
     "execution_count": 12,
     "metadata": {},
     "output_type": "execute_result"
    }
   ],
   "source": [
    "# Personalities detected by the AwsCelebrityRecognition service that were not in the video's metadata\n",
    "other_pred"
   ]
  },
  {
   "cell_type": "code",
   "execution_count": 13,
   "id": "5d8b3451",
   "metadata": {},
   "outputs": [],
   "source": [
    "# If you want to evaluate a bigger sample of the dataset instead of one video\n",
    "# You can concatenate several confusion DataFrames and other predictions dictionaries  \n",
    "#db_confusion_df = confusion_df.add(confusion_df_2, fill_value=0).astype(int)\n",
    "#db_other_pred = dict(Counter(other_pred)+Counter(other_pred_2))"
   ]
  },
  {
   "cell_type": "markdown",
   "id": "9f26bd62",
   "metadata": {},
   "source": [
    "---\n",
    "### Compute Metrics\n",
    "\n",
    "We compute the accuracy, precision, recall and f1-score from the confusion matrices."
   ]
  },
  {
   "cell_type": "code",
   "execution_count": 14,
   "id": "d55b12da",
   "metadata": {},
   "outputs": [],
   "source": [
    "def compute_metrics(confusion_df):\n",
    "    \"\"\"\n",
    "    Computes the following classic metrics from the confusion matrices:\n",
    "        - accuracy / precision / recall / f1\n",
    "    \n",
    "    :param confusion_df pandas.DataFrame: \n",
    "        pandas DataFrame composed of all the confusion matrices \n",
    "        of all the personalities present in the sample we want to evaluate.\n",
    "    :return: a copy of confusion_df with all the computed classifical metrics\n",
    "    :rtype: pandas.DataFrame\n",
    "    \"\"\"\n",
    "    metrics_df = confusion_df.copy()\n",
    "    \n",
    "    metrics_df.loc['total'] = metrics_df.sum(axis=0)\n",
    "    \n",
    "    metrics_df['accuracy'] = (metrics_df['tp']+metrics_df['tn'])/metrics_df.sum(axis=1)\n",
    "    metrics_df['precision'] = metrics_df['tp']/(metrics_df['fp']+metrics_df['tp'])\n",
    "    metrics_df['recall'] = metrics_df['tp']/(metrics_df['fn']+metrics_df['tp'])\n",
    "    metrics_df['f1'] = 2*metrics_df['precision']*metrics_df['recall']/(metrics_df['precision']+metrics_df['recall'])\n",
    "    \n",
    "    #metrics_df.loc['macro_average'] = metrics_df.iloc[:-1].mean(axis=0)\n",
    "        \n",
    "    return metrics_df.round(2)"
   ]
  },
  {
   "cell_type": "code",
   "execution_count": 15,
   "id": "767b87f8",
   "metadata": {},
   "outputs": [],
   "source": [
    "metrics_df = compute_metrics(confusion_df)"
   ]
  },
  {
   "cell_type": "code",
   "execution_count": 16,
   "id": "52c6a60c",
   "metadata": {},
   "outputs": [
    {
     "data": {
      "text/html": [
       "<div>\n",
       "<style scoped>\n",
       "    .dataframe tbody tr th:only-of-type {\n",
       "        vertical-align: middle;\n",
       "    }\n",
       "\n",
       "    .dataframe tbody tr th {\n",
       "        vertical-align: top;\n",
       "    }\n",
       "\n",
       "    .dataframe thead th {\n",
       "        text-align: right;\n",
       "    }\n",
       "</style>\n",
       "<table border=\"1\" class=\"dataframe\">\n",
       "  <thead>\n",
       "    <tr style=\"text-align: right;\">\n",
       "      <th></th>\n",
       "      <th>tp</th>\n",
       "      <th>fp</th>\n",
       "      <th>tn</th>\n",
       "      <th>fn</th>\n",
       "      <th>accuracy</th>\n",
       "      <th>precision</th>\n",
       "      <th>recall</th>\n",
       "      <th>f1</th>\n",
       "    </tr>\n",
       "  </thead>\n",
       "  <tbody>\n",
       "    <tr>\n",
       "      <th>Graham Norton</th>\n",
       "      <td>90</td>\n",
       "      <td>0</td>\n",
       "      <td>105</td>\n",
       "      <td>6</td>\n",
       "      <td>0.97</td>\n",
       "      <td>1.00</td>\n",
       "      <td>0.94</td>\n",
       "      <td>0.97</td>\n",
       "    </tr>\n",
       "    <tr>\n",
       "      <th>Bono</th>\n",
       "      <td>89</td>\n",
       "      <td>1</td>\n",
       "      <td>72</td>\n",
       "      <td>39</td>\n",
       "      <td>0.80</td>\n",
       "      <td>0.99</td>\n",
       "      <td>0.70</td>\n",
       "      <td>0.82</td>\n",
       "    </tr>\n",
       "    <tr>\n",
       "      <th>Taylor Swift</th>\n",
       "      <td>89</td>\n",
       "      <td>0</td>\n",
       "      <td>57</td>\n",
       "      <td>55</td>\n",
       "      <td>0.73</td>\n",
       "      <td>1.00</td>\n",
       "      <td>0.62</td>\n",
       "      <td>0.76</td>\n",
       "    </tr>\n",
       "    <tr>\n",
       "      <th>Eddie Redmayne</th>\n",
       "      <td>123</td>\n",
       "      <td>0</td>\n",
       "      <td>63</td>\n",
       "      <td>15</td>\n",
       "      <td>0.93</td>\n",
       "      <td>1.00</td>\n",
       "      <td>0.89</td>\n",
       "      <td>0.94</td>\n",
       "    </tr>\n",
       "    <tr>\n",
       "      <th>Alex Scott</th>\n",
       "      <td>31</td>\n",
       "      <td>1</td>\n",
       "      <td>86</td>\n",
       "      <td>83</td>\n",
       "      <td>0.58</td>\n",
       "      <td>0.97</td>\n",
       "      <td>0.27</td>\n",
       "      <td>0.42</td>\n",
       "    </tr>\n",
       "    <tr>\n",
       "      <th>Lady Blackbird</th>\n",
       "      <td>0</td>\n",
       "      <td>0</td>\n",
       "      <td>181</td>\n",
       "      <td>20</td>\n",
       "      <td>0.90</td>\n",
       "      <td>NaN</td>\n",
       "      <td>0.00</td>\n",
       "      <td>NaN</td>\n",
       "    </tr>\n",
       "    <tr>\n",
       "      <th>total</th>\n",
       "      <td>422</td>\n",
       "      <td>2</td>\n",
       "      <td>564</td>\n",
       "      <td>218</td>\n",
       "      <td>0.82</td>\n",
       "      <td>1.00</td>\n",
       "      <td>0.66</td>\n",
       "      <td>0.79</td>\n",
       "    </tr>\n",
       "  </tbody>\n",
       "</table>\n",
       "</div>"
      ],
      "text/plain": [
       "                 tp  fp   tn   fn  accuracy  precision  recall    f1\n",
       "Graham Norton    90   0  105    6      0.97       1.00    0.94  0.97\n",
       "Bono             89   1   72   39      0.80       0.99    0.70  0.82\n",
       "Taylor Swift     89   0   57   55      0.73       1.00    0.62  0.76\n",
       "Eddie Redmayne  123   0   63   15      0.93       1.00    0.89  0.94\n",
       "Alex Scott       31   1   86   83      0.58       0.97    0.27  0.42\n",
       "Lady Blackbird    0   0  181   20      0.90        NaN    0.00   NaN\n",
       "total           422   2  564  218      0.82       1.00    0.66  0.79"
      ]
     },
     "execution_count": 16,
     "metadata": {},
     "output_type": "execute_result"
    }
   ],
   "source": [
    "metrics_df"
   ]
  },
  {
   "cell_type": "markdown",
   "id": "6f917b1c",
   "metadata": {},
   "source": [
    "### TEST JSONs"
   ]
  },
  {
   "cell_type": "code",
   "execution_count": 17,
   "id": "c574adc1",
   "metadata": {},
   "outputs": [],
   "source": [
    "annotations_json_test = {\n",
    "    'all_personalities': [\n",
    "        'Name True Positive',\n",
    "        'Name False Positive',\n",
    "        'Name True Negative',\n",
    "        'Name False Negative'],\n",
    "    'annotation': {\n",
    "        '0': {\n",
    "            'time_interval': '[00:00:00.000,00:00:29.000,1.0]',\n",
    "            'frame_interval': '[0,725,25]',\n",
    "            'personalities': ['Name True Positive', 'Name False Negative']\n",
    "        }\n",
    "    }\n",
    "}"
   ]
  },
  {
   "cell_type": "code",
   "execution_count": 18,
   "id": "69002e3b",
   "metadata": {},
   "outputs": [],
   "source": [
    "predictions_celebs_test = [\n",
    "    {'Timestamp': 25000, 'Celebrity': {'Name': 'Name True Positive'}},\n",
    "    {'Timestamp': 26000, 'Celebrity': {'Name': 'Name False Positive'}},\n",
    "    {'Timestamp': 27000, 'Celebrity': {'Name': 'Name Other Pred'}}\n",
    "]"
   ]
  },
  {
   "cell_type": "code",
   "execution_count": 19,
   "id": "c3b60f02",
   "metadata": {},
   "outputs": [],
   "source": [
    "confusion_df_test, other_pred_test = aws_confusion_df(predictions_celebs_test, annotations_json_test)"
   ]
  },
  {
   "cell_type": "code",
   "execution_count": 20,
   "id": "12ef5e7c",
   "metadata": {},
   "outputs": [
    {
     "data": {
      "text/html": [
       "<div>\n",
       "<style scoped>\n",
       "    .dataframe tbody tr th:only-of-type {\n",
       "        vertical-align: middle;\n",
       "    }\n",
       "\n",
       "    .dataframe tbody tr th {\n",
       "        vertical-align: top;\n",
       "    }\n",
       "\n",
       "    .dataframe thead th {\n",
       "        text-align: right;\n",
       "    }\n",
       "</style>\n",
       "<table border=\"1\" class=\"dataframe\">\n",
       "  <thead>\n",
       "    <tr style=\"text-align: right;\">\n",
       "      <th></th>\n",
       "      <th>tp</th>\n",
       "      <th>fp</th>\n",
       "      <th>tn</th>\n",
       "      <th>fn</th>\n",
       "    </tr>\n",
       "  </thead>\n",
       "  <tbody>\n",
       "    <tr>\n",
       "      <th>Name True Positive</th>\n",
       "      <td>1</td>\n",
       "      <td>0</td>\n",
       "      <td>0</td>\n",
       "      <td>0</td>\n",
       "    </tr>\n",
       "    <tr>\n",
       "      <th>Name False Positive</th>\n",
       "      <td>0</td>\n",
       "      <td>1</td>\n",
       "      <td>0</td>\n",
       "      <td>0</td>\n",
       "    </tr>\n",
       "    <tr>\n",
       "      <th>Name True Negative</th>\n",
       "      <td>0</td>\n",
       "      <td>0</td>\n",
       "      <td>1</td>\n",
       "      <td>0</td>\n",
       "    </tr>\n",
       "    <tr>\n",
       "      <th>Name False Negative</th>\n",
       "      <td>0</td>\n",
       "      <td>0</td>\n",
       "      <td>0</td>\n",
       "      <td>1</td>\n",
       "    </tr>\n",
       "  </tbody>\n",
       "</table>\n",
       "</div>"
      ],
      "text/plain": [
       "                     tp  fp  tn  fn\n",
       "Name True Positive    1   0   0   0\n",
       "Name False Positive   0   1   0   0\n",
       "Name True Negative    0   0   1   0\n",
       "Name False Negative   0   0   0   1"
      ]
     },
     "execution_count": 20,
     "metadata": {},
     "output_type": "execute_result"
    }
   ],
   "source": [
    "confusion_df_test"
   ]
  },
  {
   "cell_type": "code",
   "execution_count": 21,
   "id": "69f3c71f",
   "metadata": {},
   "outputs": [
    {
     "data": {
      "text/plain": [
       "{'Name Other Pred': 1}"
      ]
     },
     "execution_count": 21,
     "metadata": {},
     "output_type": "execute_result"
    }
   ],
   "source": [
    "other_pred_test"
   ]
  },
  {
   "cell_type": "code",
   "execution_count": 22,
   "id": "7963c0c1",
   "metadata": {},
   "outputs": [
    {
     "data": {
      "text/html": [
       "<div>\n",
       "<style scoped>\n",
       "    .dataframe tbody tr th:only-of-type {\n",
       "        vertical-align: middle;\n",
       "    }\n",
       "\n",
       "    .dataframe tbody tr th {\n",
       "        vertical-align: top;\n",
       "    }\n",
       "\n",
       "    .dataframe thead th {\n",
       "        text-align: right;\n",
       "    }\n",
       "</style>\n",
       "<table border=\"1\" class=\"dataframe\">\n",
       "  <thead>\n",
       "    <tr style=\"text-align: right;\">\n",
       "      <th></th>\n",
       "      <th>tp</th>\n",
       "      <th>fp</th>\n",
       "      <th>tn</th>\n",
       "      <th>fn</th>\n",
       "      <th>accuracy</th>\n",
       "      <th>precision</th>\n",
       "      <th>recall</th>\n",
       "      <th>f1</th>\n",
       "    </tr>\n",
       "  </thead>\n",
       "  <tbody>\n",
       "    <tr>\n",
       "      <th>Name True Positive</th>\n",
       "      <td>1</td>\n",
       "      <td>0</td>\n",
       "      <td>0</td>\n",
       "      <td>0</td>\n",
       "      <td>1.0</td>\n",
       "      <td>1.0</td>\n",
       "      <td>1.0</td>\n",
       "      <td>1.0</td>\n",
       "    </tr>\n",
       "    <tr>\n",
       "      <th>Name False Positive</th>\n",
       "      <td>0</td>\n",
       "      <td>1</td>\n",
       "      <td>0</td>\n",
       "      <td>0</td>\n",
       "      <td>0.0</td>\n",
       "      <td>0.0</td>\n",
       "      <td>NaN</td>\n",
       "      <td>NaN</td>\n",
       "    </tr>\n",
       "    <tr>\n",
       "      <th>Name True Negative</th>\n",
       "      <td>0</td>\n",
       "      <td>0</td>\n",
       "      <td>1</td>\n",
       "      <td>0</td>\n",
       "      <td>1.0</td>\n",
       "      <td>NaN</td>\n",
       "      <td>NaN</td>\n",
       "      <td>NaN</td>\n",
       "    </tr>\n",
       "    <tr>\n",
       "      <th>Name False Negative</th>\n",
       "      <td>0</td>\n",
       "      <td>0</td>\n",
       "      <td>0</td>\n",
       "      <td>1</td>\n",
       "      <td>0.0</td>\n",
       "      <td>NaN</td>\n",
       "      <td>0.0</td>\n",
       "      <td>NaN</td>\n",
       "    </tr>\n",
       "    <tr>\n",
       "      <th>total</th>\n",
       "      <td>1</td>\n",
       "      <td>1</td>\n",
       "      <td>1</td>\n",
       "      <td>1</td>\n",
       "      <td>0.5</td>\n",
       "      <td>0.5</td>\n",
       "      <td>0.5</td>\n",
       "      <td>0.5</td>\n",
       "    </tr>\n",
       "  </tbody>\n",
       "</table>\n",
       "</div>"
      ],
      "text/plain": [
       "                     tp  fp  tn  fn  accuracy  precision  recall   f1\n",
       "Name True Positive    1   0   0   0       1.0        1.0     1.0  1.0\n",
       "Name False Positive   0   1   0   0       0.0        0.0     NaN  NaN\n",
       "Name True Negative    0   0   1   0       1.0        NaN     NaN  NaN\n",
       "Name False Negative   0   0   0   1       0.0        NaN     0.0  NaN\n",
       "total                 1   1   1   1       0.5        0.5     0.5  0.5"
      ]
     },
     "execution_count": 22,
     "metadata": {},
     "output_type": "execute_result"
    }
   ],
   "source": [
    "compute_metrics(confusion_df_test)"
   ]
  },
  {
   "cell_type": "code",
   "execution_count": null,
   "id": "e18399ee",
   "metadata": {},
   "outputs": [],
   "source": []
  }
 ],
 "metadata": {
  "kernelspec": {
   "display_name": "Python 3 (ipykernel)",
   "language": "python",
   "name": "python3"
  },
  "language_info": {
   "codemirror_mode": {
    "name": "ipython",
    "version": 3
   },
   "file_extension": ".py",
   "mimetype": "text/x-python",
   "name": "python",
   "nbconvert_exporter": "python",
   "pygments_lexer": "ipython3",
   "version": "3.10.10"
  }
 },
 "nbformat": 4,
 "nbformat_minor": 5
}
