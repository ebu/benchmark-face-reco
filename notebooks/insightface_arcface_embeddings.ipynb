{
 "cells": [
  {
   "cell_type": "code",
   "execution_count": null,
   "id": "e34139ce",
   "metadata": {},
   "outputs": [],
   "source": [
    "import os\n",
    "import cv2\n",
    "import numpy as np\n",
    "from sklearn.manifold import TSNE\n",
    "import matplotlib.pyplot as plt\n",
    "import seaborn as sns\n",
    "import insightface"
   ]
  },
  {
   "cell_type": "code",
   "execution_count": null,
   "id": "501192a6",
   "metadata": {},
   "outputs": [],
   "source": [
    "image_train_path = '/DATA/datasets/celebrity_identification/train/'\n",
    "image_test_path = '/DATA/datasets/celebrity_identification/test/'\n",
    "image_dir_path = '/DATA/datasets/celebrity_identification/train/'\n",
    "\n",
    "names = [ name for name in os.listdir(image_dir_path) if os.path.isdir(os.path.join(image_train_path, name)) ]\n",
    "print(names)"
   ]
  },
  {
   "cell_type": "code",
   "execution_count": null,
   "id": "535ffcc9",
   "metadata": {},
   "outputs": [],
   "source": [
    "model_dir_path = insightface.utils.download(\"models\", \"buffalo_l\")\n",
    "detector = insightface.model_zoo.RetinaFace(model_file=model_dir_path+\"/det_10g.onnx\")\n",
    "detector.prepare(-1)"
   ]
  },
  {
   "cell_type": "code",
   "execution_count": null,
   "id": "cac9b826",
   "metadata": {},
   "outputs": [],
   "source": [
    "embedding_extractor = insightface.model_zoo.ArcFaceONNX(model_file=model_dir_path+\"/w600k_r50.onnx\")\n",
    "embedding_extractor.prepare(-1)"
   ]
  },
  {
   "cell_type": "code",
   "execution_count": null,
   "id": "6dbe4792",
   "metadata": {},
   "outputs": [],
   "source": [
    "# faces\n",
    "faces_emb = []\n",
    "label = []\n",
    "for idx, name in enumerate(names):\n",
    "    \n",
    "    name_dir = image_dir_path + name\n",
    "    image_filepaths = [os.path.join(name_dir, f)\n",
    "                       for f in os.listdir(name_dir)]\n",
    "#     print(image_filepaths)\n",
    "    \n",
    "    for image_file_path in image_filepaths:\n",
    "        print(image_file_path)\n",
    "        image = cv2.imread(image_file_path)\n",
    "        bboxes, kpss = detector.detect(image, (640, 640))\n",
    "        # Take only pictures with one face detected\n",
    "        if bboxes.shape[0] == 1:\n",
    "            bbox = bboxes[0, 0:4]\n",
    "            det_score = bboxes[0, 4]\n",
    "            kps = kpss[0]\n",
    "            face = insightface.app.common.Face(bbox=bbox, kps=kps, det_score=det_score)\n",
    "            embedding = embedding_extractor.get(image, face)\n",
    "            faces_emb.append(embedding)\n",
    "            label.append(name)"
   ]
  },
  {
   "cell_type": "code",
   "execution_count": null,
   "id": "b7e8dbd8",
   "metadata": {},
   "outputs": [],
   "source": [
    "len(faces_emb)"
   ]
  },
  {
   "cell_type": "code",
   "execution_count": null,
   "id": "8d3d5626",
   "metadata": {},
   "outputs": [],
   "source": [
    "len(label)"
   ]
  },
  {
   "cell_type": "code",
   "execution_count": null,
   "id": "c7939580",
   "metadata": {},
   "outputs": [],
   "source": [
    "# Convert to Numpy array\n",
    "faces_emb_train_np = np.array(faces_emb)\n",
    "# define the labels\n",
    "label_emb_train_np = np.array(label)"
   ]
  },
  {
   "cell_type": "code",
   "execution_count": null,
   "id": "a78f6d53",
   "metadata": {},
   "outputs": [],
   "source": [
    "faces_emb_train_np.shape"
   ]
  },
  {
   "cell_type": "code",
   "execution_count": null,
   "id": "0bc0ded4",
   "metadata": {},
   "outputs": [],
   "source": [
    "# instantiate the tsne \n",
    "# https://towardsdatascience.com/why-you-are-using-t-sne-wrong-502412aab0c0\n",
    "tsne = TSNE(n_iter=1500, n_components=2, perplexity=10)"
   ]
  },
  {
   "cell_type": "code",
   "execution_count": null,
   "id": "dc55fb34",
   "metadata": {},
   "outputs": [],
   "source": [
    "embs_tsne = tsne.fit_transform(faces_emb_train_np)"
   ]
  },
  {
   "cell_type": "markdown",
   "id": "75d5f914",
   "metadata": {},
   "source": [
    "## Visualisation of the embeddings space"
   ]
  },
  {
   "cell_type": "code",
   "execution_count": null,
   "id": "1269a51a",
   "metadata": {},
   "outputs": [],
   "source": [
    "import mpld3\n",
    "mpld3.enable_notebook()\n",
    "\n",
    "x = embs_tsne[:, 0]\n",
    "y = embs_tsne[:, 1]\n",
    "fig, ax = plt.subplots(figsize=(10,10))\n",
    "sns.scatterplot(x=x, y=y, hue=label_emb_train_np)\n",
    "plt.show()"
   ]
  },
  {
   "cell_type": "code",
   "execution_count": null,
   "id": "d5ff9028",
   "metadata": {},
   "outputs": [],
   "source": []
  }
 ],
 "metadata": {
  "kernelspec": {
   "display_name": "Python 3 (ipykernel)",
   "language": "python",
   "name": "python3"
  },
  "language_info": {
   "codemirror_mode": {
    "name": "ipython",
    "version": 3
   },
   "file_extension": ".py",
   "mimetype": "text/x-python",
   "name": "python",
   "nbconvert_exporter": "python",
   "pygments_lexer": "ipython3",
   "version": "3.7.13"
  }
 },
 "nbformat": 4,
 "nbformat_minor": 5
}
