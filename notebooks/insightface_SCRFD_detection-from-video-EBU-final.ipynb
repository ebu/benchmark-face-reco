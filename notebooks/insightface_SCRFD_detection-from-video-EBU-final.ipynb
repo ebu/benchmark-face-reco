{
 "cells": [
  {
   "cell_type": "code",
   "execution_count": null,
   "metadata": {},
   "outputs": [],
   "source": [
    "import cv2\n",
    "import numpy as np\n",
    "import insightface\n",
    "from matplotlib import pyplot as plt\n",
    "\n",
    "# CODE: https://github.com/hukkelas/DSFD-Pytorch-Inference"
   ]
  },
  {
   "cell_type": "markdown",
   "metadata": {},
   "source": [
    "# Process the face detection on a video\n",
    "1. Load the numpy array generated from a video\n",
    "1. Process the face detectio\n",
    "1. Visual check of the performances"
   ]
  },
  {
   "cell_type": "markdown",
   "metadata": {},
   "source": [
    "## Load the numpy array : 3D + 3D numpy with colors or 3D if gray"
   ]
  },
  {
   "cell_type": "code",
   "execution_count": null,
   "metadata": {},
   "outputs": [],
   "source": [
    "USE_COLOR = True \n",
    "SHOW_DET_FACES = True\n",
    "fps_np = 1."
   ]
  },
  {
   "cell_type": "code",
   "execution_count": null,
   "metadata": {},
   "outputs": [],
   "source": [
    "# Load the numpy array \n",
    "path_arrays = \"../data/arrays/\"\n",
    "array_name = 'BA_GNS_' + str(int(fps_np)) + 'fps'\n",
    "#array_name = 'EJ_GNS_' + str(int(fps_np)) + 'fps'\n",
    "if USE_COLOR:\n",
    "    array_name += '_RGB'\n",
    "else:\n",
    "    array_name += '_Gray'\n",
    "file_out =  path_arrays + array_name + '.npy'\n",
    "\n",
    "video_np = np.load(file = file_out)\n",
    "\n",
    "video_np = video_np.astype(np.uint8)"
   ]
  },
  {
   "cell_type": "code",
   "execution_count": null,
   "metadata": {},
   "outputs": [],
   "source": [
    "# check the size of the video \n",
    "if USE_COLOR:\n",
    "    nb_frame, height, width, color = video_np.shape\n",
    "else:\n",
    "    nb_frame, height, width = video_np.shape\n",
    "    color = 1\n",
    "    \n",
    "print('Number of frame : ' + str(nb_frame))\n",
    "print('Frame size WxH : ' + str(width) + 'x' + str(height))\n",
    "print('Colors : ' + str(color))"
   ]
  },
  {
   "cell_type": "markdown",
   "metadata": {},
   "source": [
    "## Process the video"
   ]
  },
  {
   "cell_type": "code",
   "execution_count": null,
   "metadata": {},
   "outputs": [],
   "source": [
    "# Hyperparamters \n",
    "\n",
    "# contour margin for the face cropping\n",
    "margin = 0\n",
    "\n",
    "# mininum size of the face to be \n",
    "#min_face_size = 20"
   ]
  },
  {
   "cell_type": "code",
   "execution_count": null,
   "metadata": {},
   "outputs": [],
   "source": [
    "model_dir_path = insightface.utils.download(\"models\", \"buffalo_l\")\n",
    "detector = insightface.model_zoo.SCRFD(model_file=model_dir_path+\"/det_10g.onnx\")\n",
    "detector.prepare(-1)"
   ]
  },
  {
   "cell_type": "code",
   "execution_count": null,
   "metadata": {},
   "outputs": [],
   "source": [
    "# outputs\n",
    "crop_faces = []\n",
    "no_face = []\n",
    "video_fd = np.copy(video_np)"
   ]
  },
  {
   "cell_type": "code",
   "execution_count": null,
   "metadata": {},
   "outputs": [],
   "source": [
    "for idx, frame_idx in enumerate(video_np):\n",
    "    video_fd[idx, :] = frame_idx\n",
    "    bboxes, kpss = detector.detect(frame_idx, (640, 640))\n",
    "    if len(bboxes) == 0:\n",
    "        no_face.append(frame_idx)\n",
    "    else:\n",
    "        for frame_idx_bbox, frame_idx_kps in zip(bboxes, kpss):\n",
    "            x0, y0, x1, y1 = [int(_) for _ in frame_idx_bbox[:4]]\n",
    "            \n",
    "            x = int(max(x0 - margin/2, 0))\n",
    "            y = int(max(y0 - margin/2, 0))\n",
    "            h = y1 - y0 + margin\n",
    "            w = x1 - x0 + margin\n",
    "            \n",
    "            # save the crop images\n",
    "            crop_face = frame_idx[y:y+h, x:x+w]\n",
    "            crop_faces.append(crop_face)\n",
    "            \n",
    "            # put a block box on the faces to make the detection more visible\n",
    "            cv2.rectangle(video_fd[idx], (x0, y0), (x1, y1), (0, 255, 0), 2)\n",
    "            (left_eye_x, left_eye_y) = int(frame_idx_kps[0][0]), int(frame_idx_kps[0][1]) # left eye center\n",
    "            (right_eye_x, right_eye_y) = int(frame_idx_kps[1][0]), int(frame_idx_kps[1][1]) # right eye center\n",
    "            (nose_tip_x, nose_tip_y) = int(frame_idx_kps[2][0]), int(frame_idx_kps[2][1]) # nose tip\n",
    "            (mouth_left_x, mouth_left_y) = int(frame_idx_kps[3][0]), int(frame_idx_kps[3][1]) # mouth left corner\n",
    "            (mouth_right_x, mouth_right_y) = int(frame_idx_kps[4][0]), int(frame_idx_kps[4][1]) # mouth right corner\n",
    "            cv2.circle(video_fd[idx], (left_eye_x, left_eye_y), 1, (0, 0, 255), 4) \n",
    "            cv2.circle(video_fd[idx], (right_eye_x, right_eye_y), 1, (0, 255, 255), 4) \n",
    "            cv2.circle(video_fd[idx], (nose_tip_x, nose_tip_y), 1, (255, 0, 255), 4) \n",
    "            cv2.circle(video_fd[idx], (mouth_left_x, mouth_left_y), 1, (0, 255, 0), 4) \n",
    "            cv2.circle(video_fd[idx], (mouth_right_x, mouth_right_y), 1, (255, 0, 0), 4) # mouth right corner\n",
    "#     break"
   ]
  },
  {
   "cell_type": "code",
   "execution_count": null,
   "metadata": {},
   "outputs": [],
   "source": [
    "# Show the video with detected faces\n",
    "idx = 0\n",
    "for idx, frame in enumerate(video_fd):\n",
    "#     cv2.imshow('face detection test', frame)\n",
    "#     aa = cv2.waitKey(300)\n",
    "    \n",
    "#     if idx == 0:\n",
    "#         a =input('press a key to start')\n",
    "#     idx +=1\n",
    "    title = 'Frame %d' % idx\n",
    "    plt.figure()\n",
    "    plt.title(title)\n",
    "    plt.imshow(cv2.cvtColor(frame, cv2.COLOR_BGR2RGB))"
   ]
  },
  {
   "cell_type": "code",
   "execution_count": null,
   "metadata": {},
   "outputs": [],
   "source": [
    "# show the frame with no face detected\n",
    "print(\"Number of frames with no face dectected : \" + str(len(no_face)) )\n",
    "for face in no_face:\n",
    "    plt.figure()\n",
    "    plt.imshow(cv2.cvtColor(face, cv2.COLOR_BGR2RGB))"
   ]
  },
  {
   "cell_type": "code",
   "execution_count": null,
   "metadata": {},
   "outputs": [],
   "source": [
    "# show the detected faces\n",
    "print(\"Number of faces dectected : \" + str(len(crop_faces)) )\n",
    "for face in crop_faces:\n",
    "    plt.figure()\n",
    "    plt.imshow(cv2.cvtColor(face, cv2.COLOR_BGR2RGB))"
   ]
  },
  {
   "cell_type": "code",
   "execution_count": null,
   "metadata": {},
   "outputs": [],
   "source": [
    "# TO DO : save the results\n",
    "# add metadata to the  detected faces : time stamps, confidence score, keypoints\n",
    "# saves the hyperparameters margin ..."
   ]
  }
 ],
 "metadata": {
  "kernelspec": {
   "display_name": "Python 3 (ipykernel)",
   "language": "python",
   "name": "python3"
  },
  "language_info": {
   "codemirror_mode": {
    "name": "ipython",
    "version": 3
   },
   "file_extension": ".py",
   "mimetype": "text/x-python",
   "name": "python",
   "nbconvert_exporter": "python",
   "pygments_lexer": "ipython3",
   "version": "3.7.13"
  }
 },
 "nbformat": 4,
 "nbformat_minor": 4
}
