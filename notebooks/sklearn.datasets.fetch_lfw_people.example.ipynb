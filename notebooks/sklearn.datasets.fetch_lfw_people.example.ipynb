{
 "cells": [
  {
   "cell_type": "markdown",
   "id": "53a18926",
   "metadata": {},
   "source": [
    "<p>Load the \"Labeled Faces in the Wild\" (LFW) people dataset</p>\n",
    "Reference: <a href=\"https://scikit-learn.org/stable/modules/generated/sklearn.datasets.fetch_lfw_people.html#sklearn.datasets.fetch_lfw_people\">https://scikit-learn.org/stable/modules/generated/sklearn.datasets.fetch_lfw_people.html#sklearn.datasets.fetch_lfw_people</a>"
   ]
  },
  {
   "cell_type": "code",
   "execution_count": 1,
   "id": "bbd6c20d",
   "metadata": {},
   "outputs": [],
   "source": [
    "from sklearn.datasets import fetch_lfw_people\n",
    "import matplotlib.pyplot as plt"
   ]
  },
  {
   "cell_type": "code",
   "execution_count": 2,
   "id": "4dc79e47",
   "metadata": {},
   "outputs": [],
   "source": [
    "# Download and use the funneled variant of the dataset\n",
    "funneled = False\n",
    "# Ratio used to resize each face picture\n",
    "resize = 1\n",
    "# Minimum number of face pictures per person\n",
    "min_faces_per_person = 70\n",
    "# Keep the 3 RGB channels instead of grey scale values\n",
    "color = True\n",
    "# 2D slice (height, width) to extract the ‘interesting’ part of the jpeg files. None will keep the full image\n",
    "slice_ = None"
   ]
  },
  {
   "cell_type": "code",
   "execution_count": 3,
   "id": "716059ad",
   "metadata": {},
   "outputs": [],
   "source": [
    "lfw_people = fetch_lfw_people(\n",
    "    funneled = funneled,\n",
    "    resize = resize,\n",
    "    min_faces_per_person = min_faces_per_person,\n",
    "    color = color,\n",
    "    slice_ = slice_\n",
    ")"
   ]
  },
  {
   "cell_type": "code",
   "execution_count": 4,
   "id": "ce956afb",
   "metadata": {},
   "outputs": [
    {
     "name": "stdout",
     "output_type": "stream",
     "text": [
      "Ariel Sharon\n",
      "Colin Powell\n",
      "Donald Rumsfeld\n",
      "George W Bush\n",
      "Gerhard Schroeder\n",
      "Hugo Chavez\n",
      "Tony Blair\n"
     ]
    }
   ],
   "source": [
    "for name in lfw_people.target_names:\n",
    "    print(name)"
   ]
  },
  {
   "cell_type": "code",
   "execution_count": 5,
   "id": "94a94935",
   "metadata": {},
   "outputs": [
    {
     "data": {
      "text/plain": [
       "(1288, 187500)"
      ]
     },
     "execution_count": 5,
     "metadata": {},
     "output_type": "execute_result"
    }
   ],
   "source": [
    "lfw_people.data.shape"
   ]
  },
  {
   "cell_type": "code",
   "execution_count": 6,
   "id": "b6d5f6aa",
   "metadata": {},
   "outputs": [
    {
     "data": {
      "text/plain": [
       "(1288, 250, 250, 3)"
      ]
     },
     "execution_count": 6,
     "metadata": {},
     "output_type": "execute_result"
    }
   ],
   "source": [
    "lfw_people.images.shape"
   ]
  },
  {
   "cell_type": "code",
   "execution_count": 7,
   "id": "6d660e93",
   "metadata": {},
   "outputs": [
    {
     "data": {
      "text/plain": [
       "(1288,)"
      ]
     },
     "execution_count": 7,
     "metadata": {},
     "output_type": "execute_result"
    }
   ],
   "source": [
    "lfw_people.target.shape"
   ]
  },
  {
   "cell_type": "code",
   "execution_count": null,
   "id": "085e654f",
   "metadata": {},
   "outputs": [],
   "source": [
    "for idx, image in enumerate(lfw_people.images):\n",
    "    #print(image.shape)\n",
    "    name = lfw_people.target_names[lfw_people.target[idx]]\n",
    "    plt.figure()\n",
    "    plt.title(name)\n",
    "    plt.imshow(image.astype('uint8'))\n",
    "    break"
   ]
  },
  {
   "cell_type": "code",
   "execution_count": null,
   "id": "06eef4f5",
   "metadata": {},
   "outputs": [],
   "source": []
  }
 ],
 "metadata": {
  "kernelspec": {
   "display_name": "Python 3",
   "language": "python",
   "name": "python3"
  },
  "language_info": {
   "codemirror_mode": {
    "name": "ipython",
    "version": 3
   },
   "file_extension": ".py",
   "mimetype": "text/x-python",
   "name": "python",
   "nbconvert_exporter": "python",
   "pygments_lexer": "ipython3",
   "version": "3.6.13"
  }
 },
 "nbformat": 4,
 "nbformat_minor": 5
}
